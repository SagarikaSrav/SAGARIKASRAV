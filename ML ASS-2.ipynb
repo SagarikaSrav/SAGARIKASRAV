{
 "cells": [
  {
   "cell_type": "code",
   "execution_count": 48,
   "id": "cf5aa165",
   "metadata": {},
   "outputs": [
    {
     "name": "stdout",
     "output_type": "stream",
     "text": [
      "Enter the number of rows: 5\n",
      "* \n",
      "* * \n",
      "* * * \n",
      "* * * * \n",
      "* * * * * \n",
      "* * * * \n",
      "* * * \n",
      "* * \n",
      "* \n",
      "\n"
     ]
    }
   ],
   "source": [
    "def pattern(n):\n",
    "   \n",
    "   for i in range(n):\n",
    "      for j in range(i+1):\n",
    "        \n",
    "         print(\"* \",end=\"\")\n",
    "      print(\"\\r\")\n",
    "      \n",
    "  \n",
    "   for i in range(n):\n",
    "      for j in range(n-i-1):\n",
    "         \n",
    "         print(\"* \",end=\"\")\n",
    "      print(\"\\r\")\n",
    " \n",
    "\n",
    "n = int(input('Enter the number of rows: '))\n",
    "\n",
    "\n",
    "pattern(n)"
   ]
  },
  {
   "cell_type": "code",
   "execution_count": 31,
   "id": "49045ca5",
   "metadata": {},
   "outputs": [],
   "source": [
    "my_list = [10, 20, 30, 40, 50, 60, 70, 80, 90, 100]\n"
   ]
  },
  {
   "cell_type": "code",
   "execution_count": 32,
   "id": "c876d3f2",
   "metadata": {},
   "outputs": [
    {
     "data": {
      "text/plain": [
       "[10, 30, 50, 70, 90]"
      ]
     },
     "execution_count": 32,
     "metadata": {},
     "output_type": "execute_result"
    }
   ],
   "source": [
    "my_list[0:len(my_list):2]"
   ]
  },
  {
   "cell_type": "code",
   "execution_count": 33,
   "id": "d0f56d2c",
   "metadata": {},
   "outputs": [],
   "source": [
    "x = [23,\"Python\", 23.98]\n"
   ]
  },
  {
   "cell_type": "code",
   "execution_count": 34,
   "id": "c14498ab",
   "metadata": {},
   "outputs": [
    {
     "name": "stdout",
     "output_type": "stream",
     "text": [
      "[<class 'int'>, <class 'str'>, <class 'float'>]\n"
     ]
    }
   ],
   "source": [
    "ls = [type(item) for item in x]\n",
    "print(ls)"
   ]
  },
  {
   "cell_type": "code",
   "execution_count": 35,
   "id": "fe80b9c4",
   "metadata": {},
   "outputs": [],
   "source": [
    "Sample_List= [1,2,3,3,3,3,4,5]\n"
   ]
  },
  {
   "cell_type": "code",
   "execution_count": 36,
   "id": "07161f47",
   "metadata": {},
   "outputs": [],
   "source": [
    "Sample_Set=set(Sample_List)"
   ]
  },
  {
   "cell_type": "code",
   "execution_count": 37,
   "id": "a42396fe",
   "metadata": {},
   "outputs": [
    {
     "name": "stdout",
     "output_type": "stream",
     "text": [
      "{1, 2, 3, 4, 5}\n"
     ]
    }
   ],
   "source": [
    "print(Sample_Set)"
   ]
  },
  {
   "cell_type": "code",
   "execution_count": 38,
   "id": "12146de5",
   "metadata": {},
   "outputs": [
    {
     "name": "stdout",
     "output_type": "stream",
     "text": [
      "[1, 2, 3, 4, 5]\n"
     ]
    }
   ],
   "source": [
    "Sample_List_Uniq=list(Sample_Set)\n",
    "print(Sample_List_Uniq)"
   ]
  },
  {
   "cell_type": "code",
   "execution_count": 39,
   "id": "bca77e19",
   "metadata": {},
   "outputs": [],
   "source": [
    "Input_String= 'The quick Brow Fox'\n"
   ]
  },
  {
   "cell_type": "code",
   "execution_count": 40,
   "id": "4c7bffc2",
   "metadata": {},
   "outputs": [
    {
     "name": "stdout",
     "output_type": "stream",
     "text": [
      "Lowercase characters: 12\n",
      "Uppercase characters: 3\n"
     ]
    }
   ],
   "source": [
    "lower = [i for i in Input_String if i.islower()]\n",
    "upper = [j for j in Input_String if j.isupper()]\n",
    "\n",
    "print('Lowercase characters:', len(lower))\n",
    "print('Uppercase characters:', len(upper))"
   ]
  },
  {
   "cell_type": "code",
   "execution_count": null,
   "id": "68600fc4",
   "metadata": {},
   "outputs": [],
   "source": []
  },
  {
   "cell_type": "code",
   "execution_count": null,
   "id": "97e23560",
   "metadata": {},
   "outputs": [],
   "source": []
  }
 ],
 "metadata": {
  "kernelspec": {
   "display_name": "Python 3 (ipykernel)",
   "language": "python",
   "name": "python3"
  },
  "language_info": {
   "codemirror_mode": {
    "name": "ipython",
    "version": 3
   },
   "file_extension": ".py",
   "mimetype": "text/x-python",
   "name": "python",
   "nbconvert_exporter": "python",
   "pygments_lexer": "ipython3",
   "version": "3.9.12"
  }
 },
 "nbformat": 4,
 "nbformat_minor": 5
}
